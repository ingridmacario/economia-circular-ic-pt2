{
  "cells": [
    {
      "cell_type": "code",
      "execution_count": 1,
      "metadata": {
        "colab": {
          "base_uri": "https://localhost:8080/",
          "height": 373
        },
        "id": "o0uVic5Hc23x",
        "outputId": "85a4b426-cf4b-47a6-d936-f7a6b3873f24"
      },
      "outputs": [],
      "source": [
        "#importando as bibliotecas\n",
        "import pandas as pd\n",
        "import numpy as np"
      ]
    },
    {
      "cell_type": "code",
      "execution_count": 2,
      "metadata": {},
      "outputs": [
        {
          "data": {
            "text/html": [
              "<div>\n",
              "<style scoped>\n",
              "    .dataframe tbody tr th:only-of-type {\n",
              "        vertical-align: middle;\n",
              "    }\n",
              "\n",
              "    .dataframe tbody tr th {\n",
              "        vertical-align: top;\n",
              "    }\n",
              "\n",
              "    .dataframe thead th {\n",
              "        text-align: right;\n",
              "    }\n",
              "</style>\n",
              "<table border=\"1\" class=\"dataframe\">\n",
              "  <thead>\n",
              "    <tr style=\"text-align: right;\">\n",
              "      <th></th>\n",
              "      <th>DOI</th>\n",
              "      <th>Fonte</th>\n",
              "      <th>Idioma</th>\n",
              "      <th>Palavra-chave</th>\n",
              "      <th>Citacao</th>\n",
              "      <th>Ano de Publicacao</th>\n",
              "      <th>Numero de Paginas</th>\n",
              "    </tr>\n",
              "  </thead>\n",
              "  <tbody>\n",
              "    <tr>\n",
              "      <th>0</th>\n",
              "      <td>10.1016/j.jclepro.2019.118397</td>\n",
              "      <td>JOURNAL OF CLEANER PRODUCTION</td>\n",
              "      <td>English</td>\n",
              "      <td>LIFE-CYCLE ASSESSMENT</td>\n",
              "      <td>31</td>\n",
              "      <td>2019</td>\n",
              "      <td>15</td>\n",
              "    </tr>\n",
              "    <tr>\n",
              "      <th>1</th>\n",
              "      <td>10.1016/j.seppur.2019.115835</td>\n",
              "      <td>SEPARATION AND PURIFICATION TECHNOLOGY</td>\n",
              "      <td>English</td>\n",
              "      <td>NANOFIBROUS MEMBRANES</td>\n",
              "      <td>40</td>\n",
              "      <td>2019</td>\n",
              "      <td>10</td>\n",
              "    </tr>\n",
              "    <tr>\n",
              "      <th>2</th>\n",
              "      <td>10.22320/07190700.2019.09.02.07</td>\n",
              "      <td>REVISTA HABITAT SUSTENTABLE</td>\n",
              "      <td>Spanish</td>\n",
              "      <td>LIFE-CYCLE ASSESSMENT</td>\n",
              "      <td>56</td>\n",
              "      <td>2019</td>\n",
              "      <td>15</td>\n",
              "    </tr>\n",
              "    <tr>\n",
              "      <th>3</th>\n",
              "      <td>10.1007/s10098-019-01758-1</td>\n",
              "      <td>CLEAN TECHNOLOGIES AND ENVIRONMENTAL POLICY</td>\n",
              "      <td>English</td>\n",
              "      <td>WASTE MINIMIZATION</td>\n",
              "      <td>58</td>\n",
              "      <td>2019</td>\n",
              "      <td>18</td>\n",
              "    </tr>\n",
              "    <tr>\n",
              "      <th>4</th>\n",
              "      <td>10.1007/s13762-019-02371-x</td>\n",
              "      <td>INTERNATIONAL JOURNAL OF ENVIRONMENTAL SCIENCE...</td>\n",
              "      <td>English</td>\n",
              "      <td>LIFE-CYCLE ASSESSMENT</td>\n",
              "      <td>44</td>\n",
              "      <td>2019</td>\n",
              "      <td>10</td>\n",
              "    </tr>\n",
              "    <tr>\n",
              "      <th>...</th>\n",
              "      <td>...</td>\n",
              "      <td>...</td>\n",
              "      <td>...</td>\n",
              "      <td>...</td>\n",
              "      <td>...</td>\n",
              "      <td>...</td>\n",
              "      <td>...</td>\n",
              "    </tr>\n",
              "    <tr>\n",
              "      <th>128</th>\n",
              "      <td>10.1016/j.buildenv.2012.11.009</td>\n",
              "      <td>BUILDING AND ENVIRONMENT</td>\n",
              "      <td>English</td>\n",
              "      <td>ENERGY</td>\n",
              "      <td>46</td>\n",
              "      <td>2013</td>\n",
              "      <td>12</td>\n",
              "    </tr>\n",
              "    <tr>\n",
              "      <th>129</th>\n",
              "      <td>10.1080/10789669.2012.634264</td>\n",
              "      <td>HVAC&amp;R RESEARCH</td>\n",
              "      <td>English</td>\n",
              "      <td>LIFE-CYCLE ASSESSMENT</td>\n",
              "      <td>33</td>\n",
              "      <td>2012</td>\n",
              "      <td>11</td>\n",
              "    </tr>\n",
              "    <tr>\n",
              "      <th>130</th>\n",
              "      <td>10.3992/jgb.7.2.74</td>\n",
              "      <td>JOURNAL OF GREEN BUILDING</td>\n",
              "      <td>English</td>\n",
              "      <td>LIFE-CYCLE ASSESSMENT</td>\n",
              "      <td>3</td>\n",
              "      <td>2012</td>\n",
              "      <td>13</td>\n",
              "    </tr>\n",
              "    <tr>\n",
              "      <th>131</th>\n",
              "      <td>10.1080/13602365.2011.570096</td>\n",
              "      <td>JOURNAL OF ARCHITECTURE</td>\n",
              "      <td>English</td>\n",
              "      <td>LIFE-CYCLE ASSESSMENT</td>\n",
              "      <td>26</td>\n",
              "      <td>2011</td>\n",
              "      <td>17</td>\n",
              "    </tr>\n",
              "    <tr>\n",
              "      <th>132</th>\n",
              "      <td>10.1016/j.apcata.2009.10.016</td>\n",
              "      <td>APPLIED CATALYSIS A-GENERAL</td>\n",
              "      <td>English</td>\n",
              "      <td>ALPHA-PINENE OXIDE</td>\n",
              "      <td>34</td>\n",
              "      <td>2010</td>\n",
              "      <td>6</td>\n",
              "    </tr>\n",
              "  </tbody>\n",
              "</table>\n",
              "<p>133 rows × 7 columns</p>\n",
              "</div>"
            ],
            "text/plain": [
              "                                 DOI  \\\n",
              "0      10.1016/j.jclepro.2019.118397   \n",
              "1       10.1016/j.seppur.2019.115835   \n",
              "2    10.22320/07190700.2019.09.02.07   \n",
              "3         10.1007/s10098-019-01758-1   \n",
              "4         10.1007/s13762-019-02371-x   \n",
              "..                               ...   \n",
              "128   10.1016/j.buildenv.2012.11.009   \n",
              "129     10.1080/10789669.2012.634264   \n",
              "130               10.3992/jgb.7.2.74   \n",
              "131     10.1080/13602365.2011.570096   \n",
              "132     10.1016/j.apcata.2009.10.016   \n",
              "\n",
              "                                                 Fonte   Idioma  \\\n",
              "0                        JOURNAL OF CLEANER PRODUCTION  English   \n",
              "1               SEPARATION AND PURIFICATION TECHNOLOGY  English   \n",
              "2                          REVISTA HABITAT SUSTENTABLE  Spanish   \n",
              "3          CLEAN TECHNOLOGIES AND ENVIRONMENTAL POLICY  English   \n",
              "4    INTERNATIONAL JOURNAL OF ENVIRONMENTAL SCIENCE...  English   \n",
              "..                                                 ...      ...   \n",
              "128                           BUILDING AND ENVIRONMENT  English   \n",
              "129                                    HVAC&R RESEARCH  English   \n",
              "130                          JOURNAL OF GREEN BUILDING  English   \n",
              "131                            JOURNAL OF ARCHITECTURE  English   \n",
              "132                        APPLIED CATALYSIS A-GENERAL  English   \n",
              "\n",
              "             Palavra-chave  Citacao  Ano de Publicacao  Numero de Paginas  \n",
              "0    LIFE-CYCLE ASSESSMENT       31               2019                 15  \n",
              "1    NANOFIBROUS MEMBRANES       40               2019                 10  \n",
              "2    LIFE-CYCLE ASSESSMENT       56               2019                 15  \n",
              "3       WASTE MINIMIZATION       58               2019                 18  \n",
              "4    LIFE-CYCLE ASSESSMENT       44               2019                 10  \n",
              "..                     ...      ...                ...                ...  \n",
              "128                 ENERGY       46               2013                 12  \n",
              "129  LIFE-CYCLE ASSESSMENT       33               2012                 11  \n",
              "130  LIFE-CYCLE ASSESSMENT        3               2012                 13  \n",
              "131  LIFE-CYCLE ASSESSMENT       26               2011                 17  \n",
              "132     ALPHA-PINENE OXIDE       34               2010                  6  \n",
              "\n",
              "[133 rows x 7 columns]"
            ]
          },
          "execution_count": 2,
          "metadata": {},
          "output_type": "execute_result"
        }
      ],
      "source": [
        "df = pd.read_csv('Projeto02.csv', sep=';')\n",
        "df"
      ]
    },
    {
      "cell_type": "code",
      "execution_count": 3,
      "metadata": {
        "id": "NVzn-gU-h1h9"
      },
      "outputs": [],
      "source": [
        "df_citacao = df['Citacao']\n",
        "df_paginas = df['Numero de Paginas']\n",
        "df_doi = df['DOI']"
      ]
    },
    {
      "cell_type": "code",
      "execution_count": 4,
      "metadata": {
        "colab": {
          "base_uri": "https://localhost:8080/",
          "height": 424
        },
        "id": "PIT9XYbHc234",
        "outputId": "d9b6e301-8608-49d2-fb51-846e6851aca6"
      },
      "outputs": [
        {
          "data": {
            "text/html": [
              "<div>\n",
              "<style scoped>\n",
              "    .dataframe tbody tr th:only-of-type {\n",
              "        vertical-align: middle;\n",
              "    }\n",
              "\n",
              "    .dataframe tbody tr th {\n",
              "        vertical-align: top;\n",
              "    }\n",
              "\n",
              "    .dataframe thead th {\n",
              "        text-align: right;\n",
              "    }\n",
              "</style>\n",
              "<table border=\"1\" class=\"dataframe\">\n",
              "  <thead>\n",
              "    <tr style=\"text-align: right;\">\n",
              "      <th></th>\n",
              "      <th>Fonte</th>\n",
              "      <th>Idioma</th>\n",
              "      <th>Palavra-chave</th>\n",
              "      <th>Ano de Publicacao</th>\n",
              "    </tr>\n",
              "  </thead>\n",
              "  <tbody>\n",
              "    <tr>\n",
              "      <th>0</th>\n",
              "      <td>JOURNAL OF CLEANER PRODUCTION</td>\n",
              "      <td>English</td>\n",
              "      <td>LIFE-CYCLE ASSESSMENT</td>\n",
              "      <td>2019</td>\n",
              "    </tr>\n",
              "    <tr>\n",
              "      <th>1</th>\n",
              "      <td>SEPARATION AND PURIFICATION TECHNOLOGY</td>\n",
              "      <td>English</td>\n",
              "      <td>NANOFIBROUS MEMBRANES</td>\n",
              "      <td>2019</td>\n",
              "    </tr>\n",
              "    <tr>\n",
              "      <th>2</th>\n",
              "      <td>REVISTA HABITAT SUSTENTABLE</td>\n",
              "      <td>Spanish</td>\n",
              "      <td>LIFE-CYCLE ASSESSMENT</td>\n",
              "      <td>2019</td>\n",
              "    </tr>\n",
              "    <tr>\n",
              "      <th>3</th>\n",
              "      <td>CLEAN TECHNOLOGIES AND ENVIRONMENTAL POLICY</td>\n",
              "      <td>English</td>\n",
              "      <td>WASTE MINIMIZATION</td>\n",
              "      <td>2019</td>\n",
              "    </tr>\n",
              "    <tr>\n",
              "      <th>4</th>\n",
              "      <td>INTERNATIONAL JOURNAL OF ENVIRONMENTAL SCIENCE...</td>\n",
              "      <td>English</td>\n",
              "      <td>LIFE-CYCLE ASSESSMENT</td>\n",
              "      <td>2019</td>\n",
              "    </tr>\n",
              "    <tr>\n",
              "      <th>...</th>\n",
              "      <td>...</td>\n",
              "      <td>...</td>\n",
              "      <td>...</td>\n",
              "      <td>...</td>\n",
              "    </tr>\n",
              "    <tr>\n",
              "      <th>128</th>\n",
              "      <td>BUILDING AND ENVIRONMENT</td>\n",
              "      <td>English</td>\n",
              "      <td>ENERGY</td>\n",
              "      <td>2013</td>\n",
              "    </tr>\n",
              "    <tr>\n",
              "      <th>129</th>\n",
              "      <td>HVAC&amp;R RESEARCH</td>\n",
              "      <td>English</td>\n",
              "      <td>LIFE-CYCLE ASSESSMENT</td>\n",
              "      <td>2012</td>\n",
              "    </tr>\n",
              "    <tr>\n",
              "      <th>130</th>\n",
              "      <td>JOURNAL OF GREEN BUILDING</td>\n",
              "      <td>English</td>\n",
              "      <td>LIFE-CYCLE ASSESSMENT</td>\n",
              "      <td>2012</td>\n",
              "    </tr>\n",
              "    <tr>\n",
              "      <th>131</th>\n",
              "      <td>JOURNAL OF ARCHITECTURE</td>\n",
              "      <td>English</td>\n",
              "      <td>LIFE-CYCLE ASSESSMENT</td>\n",
              "      <td>2011</td>\n",
              "    </tr>\n",
              "    <tr>\n",
              "      <th>132</th>\n",
              "      <td>APPLIED CATALYSIS A-GENERAL</td>\n",
              "      <td>English</td>\n",
              "      <td>ALPHA-PINENE OXIDE</td>\n",
              "      <td>2010</td>\n",
              "    </tr>\n",
              "  </tbody>\n",
              "</table>\n",
              "<p>133 rows × 4 columns</p>\n",
              "</div>"
            ],
            "text/plain": [
              "                                                 Fonte   Idioma  \\\n",
              "0                        JOURNAL OF CLEANER PRODUCTION  English   \n",
              "1               SEPARATION AND PURIFICATION TECHNOLOGY  English   \n",
              "2                          REVISTA HABITAT SUSTENTABLE  Spanish   \n",
              "3          CLEAN TECHNOLOGIES AND ENVIRONMENTAL POLICY  English   \n",
              "4    INTERNATIONAL JOURNAL OF ENVIRONMENTAL SCIENCE...  English   \n",
              "..                                                 ...      ...   \n",
              "128                           BUILDING AND ENVIRONMENT  English   \n",
              "129                                    HVAC&R RESEARCH  English   \n",
              "130                          JOURNAL OF GREEN BUILDING  English   \n",
              "131                            JOURNAL OF ARCHITECTURE  English   \n",
              "132                        APPLIED CATALYSIS A-GENERAL  English   \n",
              "\n",
              "             Palavra-chave  Ano de Publicacao  \n",
              "0    LIFE-CYCLE ASSESSMENT               2019  \n",
              "1    NANOFIBROUS MEMBRANES               2019  \n",
              "2    LIFE-CYCLE ASSESSMENT               2019  \n",
              "3       WASTE MINIMIZATION               2019  \n",
              "4    LIFE-CYCLE ASSESSMENT               2019  \n",
              "..                     ...                ...  \n",
              "128                 ENERGY               2013  \n",
              "129  LIFE-CYCLE ASSESSMENT               2012  \n",
              "130  LIFE-CYCLE ASSESSMENT               2012  \n",
              "131  LIFE-CYCLE ASSESSMENT               2011  \n",
              "132     ALPHA-PINENE OXIDE               2010  \n",
              "\n",
              "[133 rows x 4 columns]"
            ]
          },
          "execution_count": 4,
          "metadata": {},
          "output_type": "execute_result"
        }
      ],
      "source": [
        "df = df.drop(columns=['DOI', 'Citacao', 'Numero de Paginas'] )\n",
        "df"
      ]
    },
    {
      "cell_type": "code",
      "execution_count": 5,
      "metadata": {
        "id": "3x3veJo8c235"
      },
      "outputs": [],
      "source": [
        "#FUNÇÃO MÉDIA\n",
        "def calcula_media(n1, n2):\n",
        "    try:\n",
        "        media = lambda x, y: x / y\n",
        "        return media\n",
        "    except ZeroDivisionError:\n",
        "        print('Não é possível executar essa operação.')\n",
        "    except TypeError:\n",
        "        print('Não é possível executar essa operação, uma vez que contém valores inválidos.')\n"
      ]
    },
    {
      "cell_type": "code",
      "execution_count": 6,
      "metadata": {
        "colab": {
          "base_uri": "https://localhost:8080/"
        },
        "id": "igTP-4y1c236",
        "outputId": "a0ad875e-32eb-4ea2-94a9-c4829913b1ee"
      },
      "outputs": [
        {
          "data": {
            "text/plain": [
              "'fontes = df[\\'Fonte\\']\\nprint(f\\'{\" \"*5}Fontes: {fontes}\\')\\n\\nfonte_maior_frequencia = df[\\'Fonte\\'].mode().values[0]\\nfonte_quantidade_repeticao = (df[\\'Fonte\\'] == fonte_maior_frequencia).sum()\\nprint(f\\'A fonte {fonte_maior_frequencia } publicou {fonte_quantidade_repeticao} artigos\\')\\n'"
            ]
          },
          "execution_count": 6,
          "metadata": {},
          "output_type": "execute_result"
        }
      ],
      "source": [
        "'''fontes = df['Fonte']\n",
        "print(f'{\" \"*5}Fontes: {fontes}')\n",
        "\n",
        "fonte_maior_frequencia = df['Fonte'].mode().values[0]\n",
        "fonte_quantidade_repeticao = (df['Fonte'] == fonte_maior_frequencia).sum()\n",
        "print(f'A fonte {fonte_maior_frequencia } publicou {fonte_quantidade_repeticao} artigos')\n",
        "'''"
      ]
    },
    {
      "cell_type": "code",
      "execution_count": 7,
      "metadata": {
        "id": "HciT7-xHc237"
      },
      "outputs": [],
      "source": [
        "#palavra que mais se repete\n",
        "def calcula_maior_frequencia(palavra):\n",
        "    maior_frequencia = palavra.value_counts().idxmax()\n",
        "    return maior_frequencia\n",
        "\n",
        "#quantas vezes ela se repete\n",
        "def calcula_maior_quatidade(palavra):\n",
        "    maior_quantidade = (palavra == palavra.value_counts().idxmax()).sum()\n",
        "    return maior_quantidade"
      ]
    },
    {
      "cell_type": "code",
      "execution_count": 8,
      "metadata": {
        "id": "j588axUIc23-"
      },
      "outputs": [],
      "source": [
        "#palavra que mais se repete\n",
        "def calcula_maior_frequencia(palavra):\n",
        "    maior_frequencia = palavra.value_counts().idxmax()\n",
        "    return maior_frequencia\n",
        "\n",
        "#quantas vezes ela se repete\n",
        "def calcula_maior_quatidade(palavra):\n",
        "    maior_quantidade = (palavra == palavra.value_counts().idxmax()).sum()\n",
        "    return maior_quantidade"
      ]
    },
    {
      "cell_type": "code",
      "execution_count": 9,
      "metadata": {
        "colab": {
          "base_uri": "https://localhost:8080/"
        },
        "id": "AAKhViFlc23-",
        "outputId": "f2768b2b-b212-4a3d-d8ad-b424c34a08e1"
      },
      "outputs": [
        {
          "data": {
            "text/plain": [
              "Fonte                JOURNAL OF CLEANER PRODUCTION\n",
              "Idioma                                     English\n",
              "Palavra-chave                LIFE-CYCLE ASSESSMENT\n",
              "Ano de Publicacao                             2019\n",
              "dtype: object"
            ]
          },
          "execution_count": 9,
          "metadata": {},
          "output_type": "execute_result"
        }
      ],
      "source": [
        "df.apply(calcula_maior_frequencia)"
      ]
    },
    {
      "cell_type": "code",
      "execution_count": 10,
      "metadata": {
        "colab": {
          "base_uri": "https://localhost:8080/"
        },
        "id": "q6R7CdYsc23_",
        "outputId": "f33bfdbc-ed73-43a8-a3a6-c78875429662"
      },
      "outputs": [
        {
          "name": "stdout",
          "output_type": "stream",
          "text": [
            "CALCULANDO FONTE QUE MAIS APARECE NOS ARTIGOS\n",
            "      Fonte: ['JOURNAL OF CLEANER PRODUCTION', 'SEPARATION AND PURIFICATION TECHNOLOGY', 'REVISTA HABITAT SUSTENTABLE', 'CLEAN TECHNOLOGIES AND ENVIRONMENTAL POLICY', 'INTERNATIONAL JOURNAL OF ENVIRONMENTAL SCIENCE AND TECHNOLOGY', 'INNOVATIVE INFRASTRUCTURE SOLUTIONS', 'JOURNAL OF CLEANER PRODUCTION', 'PRODUCTION PLANNING & CONTROL', 'ARCHITECTURAL SCIENCE REVIEW', 'ENGINEERING CONSTRUCTION AND ARCHITECTURAL MANAGEMENT', 'ADVANCES IN CIVIL ENGINEERING', 'SUSTAINABILITY', 'AUTOMATION IN CONSTRUCTION', 'AUTOMATION IN CONSTRUCTION', 'APPLIED ENERGY', 'BENCHMARKING-AN INTERNATIONAL JOURNAL', 'JOURNAL OF CLEANER PRODUCTION', 'INTERNATIONAL JOURNAL OF CONSTRUCTION MANAGEMENT', 'CONSTRUCTION INNOVATION-ENGLAND', 'NODO', 'RESOURCES CONSERVATION AND RECYCLING', 'AUTOMATION IN CONSTRUCTION', 'JOURNAL OF PROFESSIONAL ISSUES IN ENGINEERING EDUCATION AND PRACTICE', 'JOURNAL OF CLEANER PRODUCTION', 'BUILDINGS', 'INTERNATIONAL JOURNAL OF CONSTRUCTION MANAGEMENT', 'GEOCHEMISTRY', 'BUILDINGS', 'PROCEEDINGS OF THE INSTITUTION OF CIVIL ENGINEERS-ENGINEERING SUSTAINABILITY', 'JOURNAL OF BUILDING ENGINEERING', 'BUILDING AND ENVIRONMENT', 'ENERGIES', 'SUSTAINABILITY', 'PROCEEDINGS OF THE INSTITUTION OF CIVIL ENGINEERS-ENGINEERING SUSTAINABILITY', 'WASTE MANAGEMENT', 'INTERNATIONAL JOURNAL OF CONSTRUCTION MANAGEMENT', 'BUILT ENVIRONMENT PROJECT AND ASSET MANAGEMENT', 'BAUTECHNIK', 'JOURNAL OF BUILDING ENGINEERING', 'JOURNAL OF CLEANER PRODUCTION', 'PROCEEDINGS OF THE INSTITUTION OF CIVIL ENGINEERS-WASTE AND RESOURCE MANAGEMENT', 'TECHNE-JOURNAL OF TECHNOLOGY FOR ARCHITECTURE AND ENVIRONMENT', 'WORLD JOURNAL OF SCIENCE TECHNOLOGY AND SUSTAINABLE DEVELOPMENT', 'PERIODICA POLYTECHNICA-CIVIL ENGINEERING', 'JOURNAL OF BUILDING ENGINEERING', 'RESOURCES CONSERVATION AND RECYCLING', 'INTERNATIONAL JOURNAL OF ENVIRONMENTAL RESEARCH AND PUBLIC HEALTH', 'JOURNAL OF BUILDING ENGINEERING', 'JOURNAL OF BUILDING ENGINEERING', 'JOURNAL OF CLEANER PRODUCTION', 'AUTOMATION IN CONSTRUCTION', 'BAUPHYSIK', 'BUILDINGS', 'BUILDINGS', 'JOURNAL OF ARCHITECTURAL ENGINEERING', 'ENERGY AND BUILDINGS', 'BUILDING AND ENVIRONMENT', 'SUSTAINABILITY', 'BUILDINGS', 'ENERGY AND BUILDINGS', 'SUSTAINABLE CITIES AND SOCIETY', 'AUTOMATION IN CONSTRUCTION', 'JOURNAL OF ENVIRONMENTAL MANAGEMENT', 'AUTOMATION IN CONSTRUCTION', 'JOURNAL OF CLEANER PRODUCTION', 'BUILDING AND ENVIRONMENT', 'JOURNAL OF THE IRANIAN CHEMICAL SOCIETY', 'RESOURCES CONSERVATION AND RECYCLING', 'SENSORS AND ACTUATORS B-CHEMICAL', 'KSCE JOURNAL OF CIVIL ENGINEERING', 'JOURNAL OF CLEANER PRODUCTION', 'IN BO-RICERCHE E PROGETTI PER IL TERRITORIO LA CITTA E L ARCHITETTURA', 'BUILT ENVIRONMENT PROJECT AND ASSET MANAGEMENT', 'ARCHITECTURAL ENGINEERING AND DESIGN MANAGEMENT', 'JOURNAL OF BUILDING ENGINEERING', 'SUSTAINABLE CITIES AND SOCIETY', 'VESTNIK TOMSKOGO GOSUDARSTVENNOGO UNIVERSITETA-KULTUROLOGIYA I ISKUSSTVOVEDENIE-TOMSK STATE UNIVERSITY JOURNAL OF CULTURAL STUDIES AND ART HISTORY', 'GENES & DEVELOPMENT', 'INTERNATIONAL JOURNAL OF INTERACTIVE DESIGN AND MANUFACTURING - IJIDEM', 'JOURNAL OF CLEANER PRODUCTION', 'AUTOMATION IN CONSTRUCTION', 'RENEWABLE & SUSTAINABLE ENERGY REVIEWS', 'JOURNAL OF CLEANER PRODUCTION', 'MOLECULAR PHARMACEUTICS', 'SUSTAINABILITY', 'JOURNAL OF ARCHITECTURAL ENGINEERING', 'GREEN CHEMISTRY', 'PROCEEDINGS OF THE INSTITUTION OF CIVIL ENGINEERS-WASTE AND RESOURCE MANAGEMENT', 'ENERGY AND BUILDINGS', 'BIOCHEMICAL AND BIOPHYSICAL RESEARCH COMMUNICATIONS', 'RENEWABLE & SUSTAINABLE ENERGY REVIEWS', 'JOURNAL OF CLEANER PRODUCTION', 'PEERJ', 'AUTOMATION IN CONSTRUCTION', 'SYNTHESIS-STUTTGART', 'ENERGY AND BUILDINGS', 'ENERGY AND BUILDINGS', 'SUSTAINABILITY', 'Sustainable Cities and Society', 'JOURNAL OF MOLECULAR CATALYSIS A-CHEMICAL', 'HABITAT INTERNATIONAL', 'JOURNAL OF CLEANER PRODUCTION', 'TOXICOLOGY REPORTS', 'CONSTRUCTION MANAGEMENT AND ECONOMICS', 'ENERGY AND BUILDINGS', 'BUILDINGS', 'RESOURCES CONSERVATION AND RECYCLING', 'SUSTAINABILITY', 'RESOURCES CONSERVATION AND RECYCLING', 'AUTOMATION IN CONSTRUCTION', 'AUTOMATION IN CONSTRUCTION', 'JOURNAL OF CLEANER PRODUCTION', 'RENEWABLE & SUSTAINABLE ENERGY REVIEWS', 'APPLIED ORGANOMETALLIC CHEMISTRY', 'ENVIRONMENTAL SCIENCE & TECHNOLOGY', 'MAGAZINE OF CONCRETE RESEARCH', 'RSC ADVANCES', 'ADVANCES IN MATERIALS SCIENCE AND ENGINEERING', 'MATHEMATICAL PROBLEMS IN ENGINEERING', 'BIOCHEMICAL AND BIOPHYSICAL RESEARCH COMMUNICATIONS', 'RENEWABLE & SUSTAINABLE ENERGY REVIEWS', 'AUTOMATION IN CONSTRUCTION', 'MOLECULAR AND CELLULAR ENDOCRINOLOGY', 'AUTOMATION IN CONSTRUCTION', 'BUILDING SIMULATION', 'JOURNAL OF THE AMERICAN CHEMICAL SOCIETY', 'WASTE MANAGEMENT', 'MOLECULAR ENDOCRINOLOGY', 'BUILDING AND ENVIRONMENT', 'HVAC&R RESEARCH', 'JOURNAL OF GREEN BUILDING', 'JOURNAL OF ARCHITECTURE', 'APPLIED CATALYSIS A-GENERAL']\n",
            "A FONTE que mais se repetiu foi JOURNAL OF CLEANER PRODUCTION com 13 publicações\n",
            "----------------------------------------------------------------------------------------------------\n",
            "CALCULANDO IDIOMA QUE MAIS APARECE NOS ARTIGOS\n",
            "      Idioma: ['English', 'English', 'Spanish', 'English', 'English', 'English', 'English', 'English', 'English', 'English', 'English', 'English', 'English', 'English', 'English', 'English', 'English', 'English', 'English', 'Spanish', 'English', 'English', 'English', 'English', 'English', 'English', 'English', 'English', 'English', 'English', 'English', 'English', 'English', 'English', 'English', 'English', 'English', 'German', 'English', 'English', 'English', 'English', 'English', 'English', 'English', 'English', 'English', 'English', 'English', 'English', 'English', 'German', 'English', 'English', 'English', 'English', 'English', 'English', 'English', 'English', 'English', 'English', 'English', 'English', 'English', 'English', 'English', 'English', 'English', 'English', 'English', 'English', 'English', 'English', 'English', 'English', 'Russian', 'English', 'English', 'English', 'English', 'English', 'English', 'English', 'English', 'English', 'English', 'English', 'English', 'English', 'English', 'English', 'English', 'English', 'English', 'English', 'English', 'English', 'English', 'English', 'English', 'English', 'English', 'English', 'English', 'English', 'English', 'English', 'English', 'English', 'English', 'English', 'English', 'English', 'English', 'English', 'English', 'English', 'English', 'English', 'English', 'English', 'English', 'English', 'English', 'English', 'English', 'English', 'English', 'English', 'English', 'English', 'English']\n",
            "A IDIOMA que mais se repetiu foi ENGLISH com 128 publicações\n",
            "----------------------------------------------------------------------------------------------------\n",
            "CALCULANDO PALAVRA-CHAVE QUE MAIS APARECE NOS ARTIGOS\n",
            "      Palavra-chave: ['LIFE-CYCLE ASSESSMENT', 'NANOFIBROUS MEMBRANES', 'LIFE-CYCLE ASSESSMENT', 'WASTE MINIMIZATION', 'LIFE-CYCLE ASSESSMENT', 'LIFE-CYCLE ASSESSMENT', 'MICRO CRYSTALLINE CELLULOSE', 'BUILDING DECONSTRUCTION', 'LCA DATA QUALITY', 'CONSTRUCTION WASTE', 'LIFE-CYCLE ASSESSMENT', 'SUSTAINABILITY ASSESSMENT', 'INFORMATION MODELING BIM', 'REINFORCED-CONCRETE BEAMS', 'ENVIRONMENTAL IMPACTS', 'CRITICAL SUCCESS FACTORS', 'PERFORMANCE RELATIONSHIPS', 'IMPACT ASSESSMENT', 'CRITICAL SUCCESS FACTORS', 'LIFE-CYCLE ASSESSMENT', 'DEMOLITION WASTE', 'GREENHOUSE-GAS EMISSIONS', 'SUSTAINABILITY LITERACY', 'INFORMATION MODELING BIM', 'INFORMATION MODELING BIM', 'KEY PERFORMANCE INDICATORS', 'ORGANIC-CARBON BURIAL', 'CYCLE ASSESSMENT', 'DEMOLITION WASTE', 'LIFE-CYCLE ASSESSMENT', 'ENERGY', 'IMPACT ASSESSMENT', 'CONSTRUCTION PROJECTS', 'ENERGY', 'DEMOLITION WASTE', 'DEMOLITION WASTE', 'GREENHOUSE-GAS EMISSIONS', 'LIFE-CYCLE ASSESSMENT', 'INFORMATION MODELING BIM', 'LIFE-CYCLE ASSESSMENT', 'LIFE-CYCLE ASSESSMENT', 'BIM', 'CONSTRUCTION-INDUSTRY', 'COLLIDING BODIES OPTIMIZATION', 'ASSESSMENT LCA', 'OFF-SITE CONSTRUCTION', 'LIFE-CYCLE ASSESSMENT', 'CRITICAL SUCCESS FACTORS', 'BIM-BASED FRAMEWORK', 'EARLY-STAGE', 'FACILITY MANAGEMENT', 'LIFE-CYCLE ASSESSMENT', 'LIFE-CYCLE ASSESSMENT', 'GREENHOUSE-GAS EMISSIONS', 'LIFE-CYCLE ASSESSMENT', 'REINFORCED-CONCRETE FRAMES', 'LIFE-CYCLE ASSESSMENT', 'DEMOUNTABLE SHEAR CONNECTORS', 'ADAPTIVE REUSE', 'LIFE-CYCLE ASSESSMENT', 'CRITICAL SUCCESS FACTORS', 'WASTE ESTIMATION', 'RADIO-FREQUENCY IDENTIFICATION', 'LIFE-CYCLE ASSESSMENT', 'ENVIRONMENTAL IMPACTS', 'LIFE-CYCLE ASSESSMENT', 'HETEROCYCLIC CARBENE-PALLADIUM', 'CONSTRUCTION WASTE', 'SODIUM DODECYL-SULFATE', 'CONSTRUCTION WASTE', 'END-OF-LIFE', 'LIFE-CYCLE ASSESSMENT', 'LIFE-CYCLE ASSESSMENT', 'OPERATIONAL-RESEARCH', 'LIFE-CYCLE ASSESSMENT', 'LIFE-CYCLE ASSESSMENT', 'CONSTRUCTION WASTE', 'BH3-ONLY PROTEIN BIM', 'DESIGN', 'CEMENT', 'CONSTRUCTION SITE LAYOUT', 'BUILDING CONSTRUCTION', 'GREENHOUSE-GAS EMISSIONS', 'CATHEPSIN-B', 'GREENHOUSE-GAS EMISSIONS', 'ENERGY', 'CO2 CAPTURE', 'CONSTRUCTION WASTE', 'LIFE-CYCLE ASSESSMENT', 'INDUCED APOPTOSIS', 'EMBODIED ENERGY', 'MANAGEMENT', 'PROTEIN CONJUGATION SYSTEM', 'INTEROPERABILITY', 'ONE-POT SYNTHESIS', 'LIFE-CYCLE ASSESSMENT', 'LIFE-CYCLE ASSESSMENT', 'BUILDINGS', 'BUILDINGS', 'IONIC LIQUIDS', 'LIFE-CYCLE ASSESSMENT', 'ENERGY-CONSUMPTION', 'NF-KAPPA-B', 'DECISION-MAKING', 'ENERGY', 'ENERGY', 'DEMOLITION WASTE', 'DEMOLITION WASTE', 'LIFE-CYCLE', 'CONSTRUCTION', 'INFORMATION-RETRIEVAL', 'PRODUCT', 'ENVIRONMENTAL ASSESSMENT METHODS', 'HETEROCYCLIC CARBENE COMPLEXES', 'LCA', 'AGGREGATE CONCRETE', 'CYCLIC CARBONATES', 'ENERGY-CONSUMPTION', 'LIFE-CYCLE ASSESSMENT', 'CELL LUNG-CANCER', 'CARBON-DIOXIDE EMISSIONS', 'POINT CLOUD', 'PROLIFERATION IN-VITRO', 'CONSTRUCTION WASTE', 'LIFE-CYCLE ASSESSMENT', 'SELF-ASSEMBLED MONOLAYERS', 'CONSTRUCTION', 'INTERNALIZATION', 'ENERGY', 'LIFE-CYCLE ASSESSMENT', 'LIFE-CYCLE ASSESSMENT', 'LIFE-CYCLE ASSESSMENT', 'ALPHA-PINENE OXIDE']\n",
            "A PALAVRA-CHAVE que mais se repetiu foi LIFE-CYCLE ASSESSMENT com 31 publicações\n",
            "----------------------------------------------------------------------------------------------------\n",
            "CALCULANDO ANO DE PUBLICACAO QUE MAIS APARECE NOS ARTIGOS\n",
            "      Ano de Publicacao: [2019, 2019, 2019, 2019, 2019, 2019, 2019, 2020, 2020, 2019, 2019, 2019, 2019, 2019, 2019, 2019, 2019, 2019, 2019, 2019, 2019, 2019, 2019, 2019, 2019, 2019, 2019, 2019, 2019, 2019, 2019, 2019, 2019, 2019, 2019, 2019, 2019, 2019, 2019, 2019, 2019, 2019, 2019, 2019, 2019, 2019, 2018, 2018, 2018, 2018, 2018, 2018, 2018, 2018, 2018, 2018, 2018, 2018, 2018, 2018, 2018, 2018, 2018, 2018, 2018, 2018, 2018, 2018, 2018, 2018, 2018, 2018, 2018, 2018, 2017, 2017, 2017, 2017, 2017, 2017, 2017, 2017, 2017, 2017, 2017, 2017, 2017, 2017, 2017, 2017, 2017, 2017, 2016, 2016, 2016, 2016, 2016, 2016, 2016, 2016, 2016, 2016, 2016, 2016, 2015, 2015, 2015, 2015, 2015, 2015, 2015, 2015, 2015, 2015, 2015, 2015, 2015, 2015, 2015, 2014, 2014, 2014, 2014, 2014, 2013, 2013, 2013, 2013, 2013, 2012, 2012, 2011, 2010]\n",
            "A ANO DE PUBLICACAO que mais se repetiu foi 2019 com 44 publicações\n",
            "----------------------------------------------------------------------------------------------------\n"
          ]
        }
      ],
      "source": [
        "for coluna in df:\n",
        "    upper_coluna = df[coluna].astype(str).str.upper() if not pd.api.types.is_numeric_dtype(df[coluna]) else df[coluna] #checando se a coluna é numerica, se for, não vai colocar .upper() em numero\n",
        "    print(f'CALCULANDO {coluna.upper()} QUE MAIS APARECE NOS ARTIGOS')\n",
        "    print(f'{\" \"*5} {coluna}: {list(df[coluna])}')\n",
        "    print(f'A {coluna.upper()} que mais se repetiu foi {calcula_maior_frequencia(upper_coluna)} com {calcula_maior_quatidade(df[coluna])} publicações')\n",
        "    print('-'*100)"
      ]
    },
    {
      "cell_type": "code",
      "execution_count": 11,
      "metadata": {
        "id": "zmosqFhN52tg"
      },
      "outputs": [],
      "source": [
        "#FUNÇÃO MÉDIA\n",
        "def calcula_media(valor):\n",
        "    try:\n",
        "        media = round(valor.mean(), 2)\n",
        "        return media\n",
        "    except ZeroDivisionError:\n",
        "        print('Não é possível executar essa operação.')\n",
        "    except TypeError:\n",
        "        print('Não é possível executar essa operação, uma vez que contém valores inválidos.')"
      ]
    },
    {
      "cell_type": "code",
      "execution_count": 12,
      "metadata": {
        "colab": {
          "base_uri": "https://localhost:8080/"
        },
        "id": "7j6B5n0i5FT0",
        "outputId": "a6cb5f34-8cae-4fbf-cea8-25aff4c0df84"
      },
      "outputs": [
        {
          "name": "stdout",
          "output_type": "stream",
          "text": [
            "MÉDIA DAS CITAÇÕES\n",
            "     O artigo 10.1016/j.jclepro.2019.118397 teve 31 citações\n",
            "     O artigo 10.1016/j.seppur.2019.115835 teve 40 citações\n",
            "     O artigo 10.22320/07190700.2019.09.02.07 teve 56 citações\n",
            "     O artigo 10.1007/s10098-019-01758-1 teve 58 citações\n",
            "     O artigo 10.1007/s13762-019-02371-x teve 44 citações\n",
            "     O artigo 10.1007/s41062-019-0239-7 teve 22 citações\n",
            "     O artigo 10.1016/j.jclepro.2019.118054 teve 50 citações\n",
            "     O artigo 10.1080/09537287.2019.1695006 teve 84 citações\n",
            "     O artigo 10.1080/00038628.2019.1689914 teve 54 citações\n",
            "     O artigo 10.1108/ECAM-11-2018-0492 teve 55 citações\n",
            "     O artigo 10.1155/2019/1609523 teve 48 citações\n",
            "     O artigo 10.3390/su11226274 teve 77 citações\n",
            "     O artigo 10.1016/j.autcon.2019.102925 teve 42 citações\n",
            "     O artigo 10.1016/j.autcon.2019.102858 teve 52 citações\n",
            "     O artigo 10.1016/j.apenergy.2019.05.101 teve 44 citações\n",
            "     O artigo 10.1108/BIJ-08-2018-0238 teve 97 citações\n",
            "     O artigo 10.1016/j.jclepro.2019.04.232 teve 75 citações\n",
            "     O artigo 10.1080/15623599.2019.1637098 teve 59 citações\n",
            "     O artigo 10.1108/CI-08-2018-0065 teve 81 citações\n",
            "     O artigo 10.1108/CI-08-2018-006698 teve 25 citações\n",
            "     O artigo 10.1016/j.resconrec.2019.02.020 teve 57 citações\n",
            "     O artigo 10.1016/j.autcon.2019.02.011 teve 85 citações\n",
            "     O artigo 10.1061/(ASCE)EI.1943-5541.0000412 teve 89 citações\n",
            "     O artigo 10.1016/j.jclepro.2019.03.172 teve 58 citações\n",
            "     O artigo 10.3390/buildings9060139 teve 97 citações\n",
            "     O artigo 10.1080/15623599.2019.1615755 teve 73 citações\n",
            "     O artigo 10.1016/j.chemer.2019.05.003 teve 119 citações\n",
            "     O artigo 10.3390/buildings9050114 teve 110 citações\n",
            "     O artigo 10.1680/jensu.17.00074 teve 86 citações\n",
            "     O artigo 10.1016/j.jobe.2019.01.017 teve 41 citações\n",
            "     O artigo 10.1016/j.buildenv.2019.01.034 teve 31 citações\n",
            "     O artigo 10.3390/en12081515 teve 85 citações\n",
            "     O artigo 10.3390/su11071896 teve 58 citações\n",
            "     O artigo 10.1680/jensu.18.00015 teve 26 citações\n",
            "     O artigo 10.1016/j.wasman.2019.03.010 teve 47 citações\n",
            "     O artigo 10.1080/15623599.2019.1583850 teve 66 citações\n",
            "     O artigo 10.1108/BEPAM-01-2018-0002 teve 30 citações\n",
            "     O artigo 10.1002/bate.201800089 teve 11 citações\n",
            "     O artigo 10.1016/j.jobe.2018.12.021 teve 130 citações\n",
            "     O artigo 10.1016/j.jclepro.2018.11.247 teve 66 citações\n",
            "     O artigo 10.1680/jwarm.17.00027 teve 32 citações\n",
            "     O artigo 10.13128/techne-7520 teve 10 citações\n",
            "     O artigo 10.1108/WJSTSD-05-2018-0048 teve 34 citações\n",
            "     O artigo 10.3311/PPci.12551 teve 34 citações\n",
            "     O artigo 10.1016/j.jobe.2018.10.009 teve 40 citações\n",
            "     O artigo 10.1016/j.resconrec.2018.09.029 teve 146 citações\n",
            "     O artigo 10.3390/ijerph15112350 teve 122 citações\n",
            "     O artigo 10.1016/j.jobe.2018.06.017 teve 70 citações\n",
            "     O artigo 10.1016/j.jobe.2018.07.022 teve 37 citações\n",
            "     O artigo 10.1016/j.jclepro.2018.07.149 teve 51 citações\n",
            "     O artigo 10.1016/j.autcon.2018.07.012 teve 59 citações\n",
            "     O artigo 10.1002/bapi.201800016 teve 30 citações\n",
            "     O artigo 10.3390/buildings8090129 teve 102 citações\n",
            "     O artigo 10.3390/buildings8090125 teve 82 citações\n",
            "     O artigo 10.1061/(ASCE)AE.1943-5568.0000303 teve 73 citações\n",
            "     O artigo 10.1016/j.enbuild.2018.05.042 teve 90 citações\n",
            "     O artigo 10.1016/j.buildenv.2018.05.006 teve 63 citações\n",
            "     O artigo 10.3390/su10082604 teve 52 citações\n",
            "     O artigo 10.3390/buildings8080113 teve 25 citações\n",
            "     O artigo 10.1016/j.enbuild.2018.03.067 teve 39 citações\n",
            "     O artigo 10.1016/j.scs.2018.03.033 teve 96 citações\n",
            "     O artigo 10.1016/j.autcon.2018.03.017 teve 73 citações\n",
            "     O artigo 10.1016/j.jenvman.2017.04.093 teve 65 citações\n",
            "     O artigo 10.1016/j.autcon.2018.02.028 teve 46 citações\n",
            "     O artigo 10.1016/j.jclepro.2018.02.070 teve 60 citações\n",
            "     O artigo 10.1016/j.buildenv.2018.02.016 teve 88 citações\n",
            "     O artigo 10.1007/s13738-017-1253-3 teve 49 citações\n",
            "     O artigo 10.1016/j.resconrec.2017.10.026 teve 68 citações\n",
            "     O artigo 10.1016/j.snb.2017.08.072 teve 70 citações\n",
            "     O artigo 10.1007/s12205-017-0595-9 teve 41 citações\n",
            "     O artigo 10.1016/j.jclepro.2017.11.087 teve 45 citações\n",
            "     O artigo 10.1016/j.jclepro.2017.11.0889 teve 30 citações\n",
            "     O artigo 10.1108/BEPAM-10-2017-0093 teve 39 citações\n",
            "     O artigo 10.1080/17452007.2018.1458593 teve 40 citações\n",
            "     O artigo 10.1016/j.jobe.2017.10.005 teve 87 citações\n",
            "     O artigo 10.1016/j.scs.2017.08.013 teve 58 citações\n",
            "     O artigo 10.17223/22220836/27/4 teve 19 citações\n",
            "     O artigo 10.1101/gad.302497.117 teve 68 citações\n",
            "     O artigo 10.1007/s12008-016-0335-2 teve 50 citações\n",
            "     O artigo 10.1016/j.jclepro.2017.04.010 teve 34 citações\n",
            "     O artigo 10.1016/j.autcon.2017.02.008 teve 50 citações\n",
            "     O artigo 10.1016/j.rser.2017.01.084 teve 80 citações\n",
            "     O artigo 10.1016/j.jclepro.2017.03.138 teve 48 citações\n",
            "     O artigo 10.1021/acs.molpharmaceut.6b01178 teve 59 citações\n",
            "     O artigo 10.3390/su9050843 teve 34 citações\n",
            "     O artigo 10.1061/(ASCE)AE.1943-5568.0000222 teve 49 citações\n",
            "     O artigo 10.1039/c6gc03026b teve 32 citações\n",
            "     O artigo 10.1680/jwarm.16.00016 teve 13 citações\n",
            "     O artigo 10.1016/j.enbuild.2016.12.009 teve 76 citações\n",
            "     O artigo 10.1016/j.bbrc.2016.12.037 teve 45 citações\n",
            "     O artigo 10.1016/j.rser.2016.09.028 teve 143 citações\n",
            "     O artigo 10.1016/j.jclepro.2015.12.085 teve 37 citações\n",
            "     O artigo 10.7717/peerj.2445 teve 40 citações\n",
            "     O artigo 10.1016/j.autcon.2016.08.005 teve 59 citações\n",
            "     O artigo 10.1055/s-0035-1561655 teve 84 citações\n",
            "     O artigo 10.1016/j.enbuild.2016.07.007 teve 44 citações\n",
            "     O artigo 10.1016/j.enbuild.2016.06.080 teve 233 citações\n",
            "     O artigo 10.3390/su8080752 teve 37 citações\n",
            "     O artigo 10.1016/j.scs.2016.03.006 teve 78 citações\n",
            "     O artigo 10.1016/j.molcata.2016.01.015 teve 42 citações\n",
            "     O artigo 10.1016/j.habitatint.2015.11.005 teve 59 citações\n",
            "     O artigo 10.1016/j.jclepro.2015.08.078 teve 55 citações\n",
            "     O artigo 10.1016/j.toxrep.2016.10.009 teve 41 citações\n",
            "     O artigo 10.1080/01446193.2016.1164327 teve 55 citações\n",
            "     O artigo 10.1016/j.enbuild.2015.09.040 teve 61 citações\n",
            "     O artigo 10.3390/buildings5041156 teve 51 citações\n",
            "     O artigo 10.1016/j.resconrec.2015.10.018 teve 68 citações\n",
            "     O artigo 10.3390/su71215830 teve 29 citações\n",
            "     O artigo 10.1016/j.resconrec.2015.06.001 teve 73 citações\n",
            "     O artigo 10.1016/j.autcon.2015.06.003 teve 119 citações\n",
            "     O artigo 10.1016/j.autcon.2015.04.006 teve 47 citações\n",
            "     O artigo 10.1016/j.jclepro.2014.08.055 teve 74 citações\n",
            "     O artigo 10.1016/j.rser.2015.02.055 teve 44 citações\n",
            "     O artigo 10.1002/aoc.3297 teve 46 citações\n",
            "     O artigo 10.1021/es505938u teve 37 citações\n",
            "     O artigo 10.1680/macr.14.00211 teve 22 citações\n",
            "     O artigo 10.1039/c4ra14111c teve 48 citações\n",
            "     O artigo 10.1155/2015/954651 teve 47 citações\n",
            "     O artigo 10.1155/2015/281640 teve 31 citações\n",
            "     O artigo 10.1016/j.bbrc.2014.11.003 teve 24 citações\n",
            "     O artigo 10.1016/j.rser.2014.04.070 teve 76 citações\n",
            "     O artigo 10.1016/j.autcon.2013.10.023 teve 243 citações\n",
            "     O artigo 10.1016/j.mce.2013.10.027 teve 52 citações\n",
            "     O artigo 10.1016/j.autcon.2013.10.017 teve 21 citações\n",
            "     O artigo 10.1007/s12273-013-0120-0 teve 29 citações\n",
            "     O artigo 10.1021/ja405783g teve 59 citações\n",
            "     O artigo 10.1016/j.wasman.2013.01.001 teve 22 citações\n",
            "     O artigo 10.1210/me.2012-1329 teve 28 citações\n",
            "     O artigo 10.1016/j.buildenv.2012.11.009 teve 46 citações\n",
            "     O artigo 10.1080/10789669.2012.634264 teve 33 citações\n",
            "     O artigo 10.3992/jgb.7.2.74 teve 3 citações\n",
            "     O artigo 10.1080/13602365.2011.570096 teve 26 citações\n",
            "     O artigo 10.1016/j.apcata.2009.10.016 teve 34 citações\n",
            "A média das citações dos artigos publicadas no ínterim de 2010 a 2020 é igual a 58.36.\n",
            "----------------------------------------------------------------------------------------------------\n"
          ]
        }
      ],
      "source": [
        "print(f'MÉDIA DAS CITAÇÕES')\n",
        "for doi, citacao in zip(df_doi, df_citacao):\n",
        "  print(f'{\" \"*5}O artigo {doi} teve {citacao} citações')\n",
        "print(f'A média das citações dos artigos publicadas no ínterim de 2010 a 2020 é igual a {calcula_media(df_citacao)}.')\n",
        "print('-'*100)"
      ]
    },
    {
      "cell_type": "code",
      "execution_count": 13,
      "metadata": {
        "colab": {
          "base_uri": "https://localhost:8080/"
        },
        "id": "HS7EH0j2A82Q",
        "outputId": "265352f3-dd02-4ca0-8b47-5e73ade0b0b5"
      },
      "outputs": [
        {
          "name": "stdout",
          "output_type": "stream",
          "text": [
            "MÉDIA DO NÚMERO DE PÁGINAS DOS ARTIGOS\n",
            "     Número de páginas: [15, 10, 15, 18, 10, 10, 13, 12, 10, 20, 18, 18, 12, 16, 17, 42, 11, 15, 22, 10, 13, 23, 12, 11, 19, 18, 22, 21, 12, 10, 10, 22, 17, 8, 8, 18, 13, 10, 15, 12, 11, 9, 12, 11, 15, 14, 20, 12, 8, 12, 12, 12, 33, 14, 15, 14, 9, 20, 22, 14, 12, 20, 10, 13, 15, 9, 8, 12, 12, 11, 13, 12, 13, 15, 12, 9, 10, 16, 13, 12, 12, 9, 13, 10, 21, 9, 9, 4, 11, 7, 15, 10, 24, 16, 8, 13, 17, 14, 9, 7, 9, 13, 9, 14, 12, 15, 10, 15, 12, 10, 12, 12, 9, 7, 9, 16, 8, 15, 14, 8, 10, 19, 11, 14, 16, 9, 13, 12, 12, 11, 13, 17, 6]\n",
            "A média de paginas dos artigos publicados no interim de 2010 a 2020 foi 13.34.\n",
            "----------------------------------------------------------------------------------------------------\n"
          ]
        }
      ],
      "source": [
        "print(f'MÉDIA DO NÚMERO DE PÁGINAS DOS ARTIGOS')\n",
        "print(f'{\" \"*5}Número de páginas: {list(df_paginas)}')\n",
        "print(f'A média de paginas dos artigos publicados no interim de 2010 a 2020 foi {calcula_media(df_paginas)}.')\n",
        "print('-'*100)"
      ]
    },
    {
      "cell_type": "code",
      "execution_count": 14,
      "metadata": {
        "colab": {
          "base_uri": "https://localhost:8080/",
          "height": 175
        },
        "id": "8kBW-C9Kc24A",
        "outputId": "eca46c34-c4b1-4088-bd6e-74de9a79e3e3"
      },
      "outputs": [
        {
          "ename": "NameError",
          "evalue": "name 'calcula_maior_frequencia_quantidade' is not defined",
          "output_type": "error",
          "traceback": [
            "\u001b[1;31m---------------------------------------------------------------------------\u001b[0m",
            "\u001b[1;31mNameError\u001b[0m                                 Traceback (most recent call last)",
            "Cell \u001b[1;32mIn[14], line 2\u001b[0m\n\u001b[0;32m      1\u001b[0m \u001b[38;5;66;03m#OBSERVAÇÃO\u001b[39;00m\n\u001b[1;32m----> 2\u001b[0m df[\u001b[38;5;124m'\u001b[39m\u001b[38;5;124mFonte\u001b[39m\u001b[38;5;124m'\u001b[39m]\u001b[38;5;241m.\u001b[39mapply(\u001b[43mcalcula_maior_frequencia_quantidade\u001b[49m) \u001b[38;5;66;03m#tá dando erro pq .apply() aplica em CADA CELULA da coluna\u001b[39;00m\n",
            "\u001b[1;31mNameError\u001b[0m: name 'calcula_maior_frequencia_quantidade' is not defined"
          ]
        }
      ],
      "source": [
        "#OBSERVAÇÃO\n",
        "df['Fonte'].apply(calcula_maior_frequencia_quantidade) #tá dando erro pq .apply() aplica em CADA CELULA da coluna"
      ]
    }
  ],
  "metadata": {
    "colab": {
      "provenance": []
    },
    "kernelspec": {
      "display_name": "Python 3",
      "language": "python",
      "name": "python3"
    },
    "language_info": {
      "codemirror_mode": {
        "name": "ipython",
        "version": 3
      },
      "file_extension": ".py",
      "mimetype": "text/x-python",
      "name": "python",
      "nbconvert_exporter": "python",
      "pygments_lexer": "ipython3",
      "version": "3.11.1"
    }
  },
  "nbformat": 4,
  "nbformat_minor": 0
}
